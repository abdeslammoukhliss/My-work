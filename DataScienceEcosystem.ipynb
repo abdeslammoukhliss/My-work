{
 "cells": [
  {
   "cell_type": "markdown",
   "id": "8c7601a6-8e06-4f81-bb74-eda13324e5c6",
   "metadata": {},
   "source": [
    "# Data Science Tools and Ecosystem"
   ]
  },
  {
   "cell_type": "markdown",
   "id": "3b18f425-93e4-4ad2-ac69-d1efce94c403",
   "metadata": {},
   "source": [
    "In this notebook, Data Science Tools and Ecosystem are summarized."
   ]
  },
  {
   "cell_type": "markdown",
   "id": "f5a7d643-0717-4c07-8131-b059bce5684c",
   "metadata": {},
   "source": [
    "Some of the popular languages that Data Scientists use are:\n",
    "1. **Python**: Python is one of the most popular languages for data science. It has a rich ecosystem of libraries and tools for data analysis, machine learning, and visualization, including NumPy, pandas, scikit-learn, Matplotlib, and seaborn.\n",
    "\n",
    "2. **R**: R is a language and environment specifically designed for statistical analysis and data visualization. It's widely used in academia and research for data analysis.\n",
    "\n",
    "3. **SQL** (Structured Query Language): SQL is essential for working with databases, which are a crucial part of data science. It's used to extract, transform, and analyze data stored in relational databases.\n",
    "\n",
    "4. **Java**: Java is often used in big data processing frameworks like Hadoop and Spark, as well as for developing web applications and data engineering tasks.\n",
    "\n",
    "5. **Scala**: Scala is commonly used in conjunction with Apache Spark, a popular big data framework, due to its compatibility and expressive capabilities.\n",
    "\n",
    "6. Julia**: Julia is a high-level, high-performance language for technical computing. It's gaining popularity in data science for its speed and ease of use for numerical and scientific computing."
   ]
  },
  {
   "cell_type": "markdown",
   "id": "500cfe73-eaf8-4b3b-954d-1a1fe35ea0e3",
   "metadata": {},
   "source": [
    "Some of the commonly used libraries used by Data Scientists include :\n",
    "\n",
    "1. **NumPy**: NumPy is a fundamental library for numerical computing in Python. It provides support for arrays and matrices, making it a foundation for data manipulation and scientific computing.\n",
    "\n",
    "2. **pandas**: pandas is a powerful library for data manipulation and analysis. It provides data structures like DataFrames for handling and analyzing structured data.\n",
    "\n",
    "3. **scikit-learn**: scikit-learn is a comprehensive machine learning library that offers tools for classification, regression, clustering, dimensionality reduction, and more.\n",
    "\n",
    "5. **TensorFlow**: Developed by Google, TensorFlow is an open-source machine learning framework widely used for deep learning tasks, including neural networks.\n",
    "\n",
    "6. **Keras**: Keras is an open-source deep learning API that acts as an interface for various deep learning frameworks, including TensorFlow and Theano. It simplifies the development of deep learning models.\n",
    "\n",
    "7. **PyTorch**: PyTorch is another popular deep learning framework, especially favored by researchers. It provides dynamic computation graphs and is highly flexible.\n",
    "\n",
    "8. **Matplotlib**: Matplotlib is a plotting library that allows for creating static, animated, and interactive visualizations in Python."
   ]
  },
  {
   "cell_type": "markdown",
   "id": "fac7b1cb-164f-498e-af91-34c8d6b80319",
   "metadata": {},
   "source": [
    "| Data Science Tools |\n",
    "|-------|\n",
    "|Jupyter Notebook|\n",
    "|RStudio|\n",
    "|Visual Studio Code"
   ]
  },
  {
   "cell_type": "markdown",
   "id": "9ff7c209-4b68-471f-8398-4e6409472601",
   "metadata": {},
   "source": [
    "### Below are a few examples of evaluating arithmetic expressions in Python"
   ]
  },
  {
   "cell_type": "code",
   "execution_count": 13,
   "id": "bf5a2954-6fe0-4e63-a282-9b310472c6df",
   "metadata": {},
   "outputs": [
    {
     "data": {
      "text/plain": [
       "17"
      ]
     },
     "execution_count": 13,
     "metadata": {},
     "output_type": "execute_result"
    }
   ],
   "source": [
    "#This a simple arithmetic expression to mutiply then add integers\n",
    "(3*4)+5"
   ]
  },
  {
   "cell_type": "code",
   "execution_count": 14,
   "id": "336540c8-3fb2-422c-9c1d-d7a67fd73615",
   "metadata": {},
   "outputs": [
    {
     "name": "stdout",
     "output_type": "stream",
     "text": [
      "200 minutes is equal to 3.3333333333333335 hours\n"
     ]
    }
   ],
   "source": [
    "# This will convert 200 minutes to hours by diving by 60\n",
    "minutes = 200\n",
    "\n",
    "# Conversion to hours\n",
    "hours = minutes / 60\n",
    "\n",
    "# Output\n",
    "print(f\"{minutes} minutes is equal to {hours} hours\")\n"
   ]
  },
  {
   "cell_type": "markdown",
   "id": "c06786cd-630b-4c85-85f3-105a3c7189f6",
   "metadata": {},
   "source": [
    "**Objectives:**\n",
    "- Pyhton\n",
    "- R\n",
    "- Numpay\n",
    "- Jupyter"
   ]
  },
  {
   "cell_type": "markdown",
   "id": "dd1fcc27-51d9-4927-a6ec-d22f1841f6dd",
   "metadata": {},
   "source": [
    "## Author\n",
    "Abdeslam MOUKHLISS"
   ]
  },
  {
   "cell_type": "code",
   "execution_count": null,
   "id": "4b74efd5-fe76-497a-877a-88425b909fab",
   "metadata": {},
   "outputs": [],
   "source": []
  }
 ],
 "metadata": {
  "kernelspec": {
   "display_name": "Python 3 (ipykernel)",
   "language": "python",
   "name": "python3"
  },
  "language_info": {
   "codemirror_mode": {
    "name": "ipython",
    "version": 3
   },
   "file_extension": ".py",
   "mimetype": "text/x-python",
   "name": "python",
   "nbconvert_exporter": "python",
   "pygments_lexer": "ipython3",
   "version": "3.10.12"
  }
 },
 "nbformat": 4,
 "nbformat_minor": 5
}
